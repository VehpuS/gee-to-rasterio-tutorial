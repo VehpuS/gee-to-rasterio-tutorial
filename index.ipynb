{
 "cells": [
  {
   "cell_type": "markdown",
   "metadata": {
    "ExecuteTime": {
     "end_time": "2022-08-24T14:19:25.290191Z",
     "start_time": "2022-08-24T14:19:25.286000Z"
    },
    "slideshow": {
     "slide_type": "slide"
    }
   },
   "source": [
    "# Google Earth Engine to Rasterio"
   ]
  },
  {
   "cell_type": "markdown",
   "metadata": {
    "slideshow": {
     "slide_type": "skip"
    }
   },
   "source": [
    "> An interactive presentation / tutorial on geospatial analysis using Google Earth Engine and Rasterio\n",
    "<a href=\"https://colab.research.google.com/github/VehpuS/gee-to-rasterio-tutorial/blob/main/gee-to-rasterio.ipynb\" target=\"_parent\"><img src=\"https://colab.research.google.com/assets/colab-badge.svg\" alt=\"Open In Colab\"/></a>"
   ]
  },
  {
   "cell_type": "markdown",
   "metadata": {
    "slideshow": {
     "slide_type": "skip"
    }
   },
   "source": [
    "## Setting up the notebook's environment"
   ]
  },
  {
   "cell_type": "markdown",
   "metadata": {
    "slideshow": {
     "slide_type": "skip"
    }
   },
   "source": [
    "### Python dependencies\n",
    "I recommend running in a virtual environment / colab."
   ]
  },
  {
   "cell_type": "code",
   "execution_count": null,
   "metadata": {
    "ExecuteTime": {
     "end_time": "2022-06-19T05:06:46.500154Z",
     "start_time": "2022-06-19T05:06:19.761839Z"
    },
    "slideshow": {
     "slide_type": "skip"
    }
   },
   "outputs": [],
   "source": [
    "%%bash\n",
    "pip install jupyter_contrib_nbextensions\n",
    "pip install RISE\n",
    "pip install geemap\n",
    "pip install eemont\n",
    "pip install autopep8\n",
    "pip install rasterio\n",
    "pip install numpy\n",
    "pip install blockdiagMagic"
   ]
  },
  {
   "cell_type": "code",
   "execution_count": 17,
   "metadata": {
    "ExecuteTime": {
     "end_time": "2022-07-26T21:31:46.083565Z",
     "start_time": "2022-07-26T21:31:46.034283Z"
    },
    "slideshow": {
     "slide_type": "skip"
    }
   },
   "outputs": [],
   "source": [
    "import time\n",
    "\n",
    "from IPython.display import IFrame"
   ]
  },
  {
   "attachments": {
    "image.png": {
     "image/png": "[encoded data removed]"
    }
   },
   "cell_type": "markdown",
   "metadata": {
    "slideshow": {
     "slide_type": "skip"
    }
   },
   "source": [
    "### How to view this notebook as a slide\n",
    "Rerun jupyter notebook (via the web UI) after installing RISE, then you should see the following button, which opens the slideshow:\n",
    "![image.png](attachment:image.png)\n",
    "\n",
    "#### Preview\n",
    "<video alt=\"Slides Preview\" src=\"presentation-movie.mov\" width=\"100%\" autoplay controls />\n",
    "\n",
    "#### More about slideshows in Jupyter\n",
    "\n",
    "[How to generate a slideshow from a notebook](https://towardsdatascience.com/5-slides-for-tips-on-presentation-mode-in-jupyter-notebook-f858b15fff4f#:~:text=The%20first%20step%20is%20to,Slideshow%20option%20and%20continue%20reading.&text=Each%20cell%20in%20the%20Jupyter,in%20the%20upper%2Dright%20corner.)\n",
    "\n",
    "[Adding Rise to be able to run slideshows from Jupyter](https://rise.readthedocs.io/en/stable/)"
   ]
  },
  {
   "cell_type": "markdown",
   "metadata": {
    "slideshow": {
     "slide_type": "skip"
    }
   },
   "source": [
    "### In Code Diagrams\n",
    "Diagrams should appear when Jupyter is run after the `blockdiagMagic` is installed.\n",
    "\n",
    "#### More about the library\n",
    "[Github repo](https://github.com/innovationOUtside/ipython_magic_blockdiag)\n",
    "\n",
    "#### Example"
   ]
  },
  {
   "cell_type": "code",
   "execution_count": 1,
   "metadata": {
    "ExecuteTime": {
     "end_time": "2022-08-24T13:43:25.750969Z",
     "start_time": "2022-08-24T13:43:25.631979Z"
    },
    "slideshow": {
     "slide_type": "skip"
    }
   },
   "outputs": [],
   "source": [
    "%load_ext blockdiag_magic"
   ]
  },
  {
   "cell_type": "code",
   "execution_count": 2,
   "metadata": {
    "ExecuteTime": {
     "end_time": "2022-08-24T13:43:26.847482Z",
     "start_time": "2022-08-24T13:43:26.833706Z"
    },
    "slideshow": {
     "slide_type": "skip"
    }
   },
   "outputs": [],
   "source": [
    "%setdiagsvg\n",
    "#Reset to png output with: %setdiagpng\n"
   ]
  },
  {
   "cell_type": "code",
   "execution_count": 3,
   "metadata": {
    "ExecuteTime": {
     "end_time": "2022-08-24T13:43:30.500954Z",
     "start_time": "2022-08-24T13:43:27.875869Z"
    },
    "slideshow": {
     "slide_type": "skip"
    }
   },
   "outputs": [
    {
     "data": {
      "image/svg+xml": "<svg xmlns=\"http://www.w3.org/2000/svg\" xmlns:inkspace=\"http://www.inkscape.org/namespaces/inkscape\" xmlns:xlink=\"http://www.w3.org/1999/xlink\" viewBox=\"0 0 640 200\">\n  <defs id=\"defs_block\">\n    <filter height=\"1.504\" id=\"filter_blur\" inkspace:collect=\"always\" width=\"1.1575\" x=\"-0.07875\" y=\"-0.252\">\n      <feGaussianBlur id=\"feGaussianBlur3780\" inkspace:collect=\"always\" stdDeviation=\"4.2\"/>\n    </filter>\n  </defs>\n  <title>blockdiag</title>\n  <desc>blockdiag { A -&gt; B -&gt; C;\nB -&gt; D;\n }\n</desc>\n  <rect fill=\"rgb(0,0,0)\" height=\"40\" stroke=\"rgb(0,0,0)\" style=\"filter:url(#filter_blur);opacity:0.7;fill-opacity:1\" width=\"128\" x=\"67\" y=\"46\"/>\n  <rect fill=\"rgb(0,0,0)\" height=\"40\" stroke=\"rgb(0,0,0)\" style=\"filter:url(#filter_blur);opacity:0.7;fill-opacity:1\" width=\"128\" x=\"259\" y=\"46\"/>\n  <rect fill=\"rgb(0,0,0)\" height=\"40\" stroke=\"rgb(0,0,0)\" style=\"filter:url(#filter_blur);opacity:0.7;fill-opacity:1\" width=\"128\" x=\"451\" y=\"46\"/>\n  <rect fill=\"rgb(0,0,0)\" height=\"40\" stroke=\"rgb(0,0,0)\" style=\"filter:url(#filter_blur);opacity:0.7;fill-opacity:1\" width=\"128\" x=\"451\" y=\"126\"/>\n  <rect fill=\"rgb(255,255,255)\" height=\"40\" stroke=\"rgb(0,0,0)\" width=\"128\" x=\"64\" y=\"40\"/>\n  <text fill=\"rgb(0,0,0)\" font-family=\"sans-serif\" font-size=\"11\" font-style=\"normal\" font-weight=\"normal\" text-anchor=\"middle\" textLength=\"8\" x=\"128.0\" y=\"65\">A</text>\n  <rect fill=\"rgb(255,255,255)\" height=\"40\" stroke=\"rgb(0,0,0)\" width=\"128\" x=\"256\" y=\"40\"/>\n  <text fill=\"rgb(0,0,0)\" font-family=\"sans-serif\" font-size=\"11\" font-style=\"normal\" font-weight=\"normal\" text-anchor=\"middle\" textLength=\"7\" x=\"320.5\" y=\"65\">B</text>\n  <rect fill=\"rgb(255,255,255)\" height=\"40\" stroke=\"rgb(0,0,0)\" width=\"128\" x=\"448\" y=\"40\"/>\n  <text fill=\"rgb(0,0,0)\" font-family=\"sans-serif\" font-size=\"11\" font-style=\"normal\" font-weight=\"normal\" text-anchor=\"middle\" textLength=\"8\" x=\"512.0\" y=\"66\">C</text>\n  <rect fill=\"rgb(255,255,255)\" height=\"40\" stroke=\"rgb(0,0,0)\" width=\"128\" x=\"448\" y=\"120\"/>\n  <text fill=\"rgb(0,0,0)\" font-family=\"sans-serif\" font-size=\"11\" font-style=\"normal\" font-weight=\"normal\" text-anchor=\"middle\" textLength=\"8\" x=\"512.0\" y=\"145\">D</text>\n  <path d=\"M 192 60 L 248 60\" fill=\"none\" stroke=\"rgb(0,0,0)\"/>\n  <polygon fill=\"rgb(0,0,0)\" points=\"255,60 248,56 248,64 255,60\" stroke=\"rgb(0,0,0)\"/>\n  <path d=\"M 384 60 L 440 60\" fill=\"none\" stroke=\"rgb(0,0,0)\"/>\n  <polygon fill=\"rgb(0,0,0)\" points=\"447,60 440,56 440,64 447,60\" stroke=\"rgb(0,0,0)\"/>\n  <path d=\"M 384 60 L 416 60\" fill=\"none\" stroke=\"rgb(0,0,0)\"/>\n  <path d=\"M 416 60 L 416 140\" fill=\"none\" stroke=\"rgb(0,0,0)\"/>\n  <path d=\"M 416 140 L 440 140\" fill=\"none\" stroke=\"rgb(0,0,0)\"/>\n  <polygon fill=\"rgb(0,0,0)\" points=\"447,140 440,136 440,144 447,140\" stroke=\"rgb(0,0,0)\"/>\n</svg>",
      "text/plain": [
       "<IPython.core.display.SVG object>"
      ]
     },
     "metadata": {},
     "output_type": "display_data"
    }
   ],
   "source": [
    "%%blockdiag\n",
    "A -> B -> C;\n",
    "B -> D;\n"
   ]
  }
 ],
 "metadata": {
  "celltoolbar": "Slideshow",
  "kernelspec": {
   "display_name": "Python 3.8.9 64-bit",
   "language": "python",
   "name": "python3"
  },
  "language_info": {
   "codemirror_mode": {
    "name": "ipython",
    "version": 3
   },
   "file_extension": ".py",
   "mimetype": "text/x-python",
   "name": "python",
   "nbconvert_exporter": "python",
   "pygments_lexer": "ipython3",
   "version": "3.8.9"
  },
  "toc": {
   "base_numbering": 1,
   "nav_menu": {},
   "number_sections": false,
   "sideBar": true,
   "skip_h1_title": false,
   "title_cell": "Table of Contents",
   "title_sidebar": "Contents",
   "toc_cell": false,
   "toc_position": {},
   "toc_section_display": true,
   "toc_window_display": false
  },
  "vscode": {
   "interpreter": {
    "hash": "31f2aee4e71d21fbe5cf8b01ff0e069b9275f58929596ceb00d14d90e3e16cd6"
   }
  }
 },
 "nbformat": 4,
 "nbformat_minor": 2
}
